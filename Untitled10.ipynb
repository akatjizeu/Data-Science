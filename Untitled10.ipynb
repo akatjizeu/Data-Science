{
  "nbformat": 4,
  "nbformat_minor": 0,
  "metadata": {
    "colab": {
      "provenance": [],
      "authorship_tag": "ABX9TyMfCvBlaZAfMDMIj6jLK+EP",
      "include_colab_link": true
    },
    "kernelspec": {
      "name": "python3",
      "display_name": "Python 3"
    },
    "language_info": {
      "name": "python"
    }
  },
  "cells": [
    {
      "cell_type": "markdown",
      "metadata": {
        "id": "view-in-github",
        "colab_type": "text"
      },
      "source": [
        "<a href=\"https://colab.research.google.com/github/akatjizeu/Data-Science/blob/main/Untitled10.ipynb\" target=\"_parent\"><img src=\"https://colab.research.google.com/assets/colab-badge.svg\" alt=\"Open In Colab\"/></a>"
      ]
    },
    {
      "cell_type": "code",
      "execution_count": 8,
      "metadata": {
        "id": "79cfu11_tTwT"
      },
      "outputs": [],
      "source": [
        "# Import necessary libraries\n",
        "import pandas as pd\n",
        "import numpy as np\n",
        "from sklearn.model_selection import train_test_split, GridSearchCV\n",
        "from sklearn.preprocessing import StandardScaler, OneHotEncoder\n",
        "from sklearn.impute import SimpleImputer\n",
        "from sklearn.compose import ColumnTransformer\n",
        "from sklearn.pipeline import Pipeline\n",
        "from sklearn.linear_model import Lasso\n",
        "from sklearn.ensemble import RandomForestRegressor\n",
        "from sklearn.metrics import mean_squared_error\n",
        "\n",
        "import warnings\n",
        "warnings.filterwarnings('ignore')"
      ]
    },
    {
      "cell_type": "code",
      "source": [
        "# Load the data\n",
        "train_data = pd.read_csv('Train_dataset.csv')\n",
        "test_data = pd.read_csv('Test_dataset.csv')\n",
        "\n"
      ],
      "metadata": {
        "id": "1PUm9js6tjSd"
      },
      "execution_count": 3,
      "outputs": []
    },
    {
      "cell_type": "code",
      "source": [
        "train_data.info()"
      ],
      "metadata": {
        "colab": {
          "base_uri": "https://localhost:8080/"
        },
        "id": "3FAoTdhEtsnY",
        "outputId": "046c284d-7474-45c8-c49b-4756d12cfb94"
      },
      "execution_count": 5,
      "outputs": [
        {
          "output_type": "stream",
          "name": "stdout",
          "text": [
            "<class 'pandas.core.frame.DataFrame'>\n",
            "RangeIndex: 3493 entries, 0 to 3492\n",
            "Data columns (total 34 columns):\n",
            " #   Column                         Non-Null Count  Dtype  \n",
            "---  ------                         --------------  -----  \n",
            " 0   Registration Number            3493 non-null   int64  \n",
            " 1   Annual Turnover                3493 non-null   int64  \n",
            " 2   Cuisine                        3493 non-null   object \n",
            " 3   City                           3493 non-null   object \n",
            " 4   Restaurant Location            3493 non-null   object \n",
            " 5   Opening Day of Restaurant      3493 non-null   object \n",
            " 6   Facebook Popularity Quotient   3394 non-null   float64\n",
            " 7   Endorsed By                    3493 non-null   object \n",
            " 8   Instagram Popularity Quotient  3437 non-null   float64\n",
            " 9   Fire Audit                     3493 non-null   int64  \n",
            " 10  Liquor License Obtained        3493 non-null   int64  \n",
            " 11  Situated in a Multi Complex    3493 non-null   int64  \n",
            " 12  Dedicated Parking              3493 non-null   int64  \n",
            " 13  Open Sitting Available         3493 non-null   int64  \n",
            " 14  Resturant Tier                 3444 non-null   float64\n",
            " 15  Restaurant Type                3493 non-null   object \n",
            " 16  Restaurant Theme               3493 non-null   object \n",
            " 17  Restaurant Zomato Rating       3493 non-null   int64  \n",
            " 18  Restaurant City Tier           3493 non-null   int64  \n",
            " 19  Order Wait Time                3493 non-null   int64  \n",
            " 20  Staff Responsivness            3493 non-null   int64  \n",
            " 21  Value for Money                3493 non-null   int64  \n",
            " 22  Hygiene Rating                 3493 non-null   int64  \n",
            " 23  Food Rating                    3493 non-null   int64  \n",
            " 24  Overall Restaurant Rating      3281 non-null   float64\n",
            " 25  Live Music Rating              2728 non-null   float64\n",
            " 26  Comedy Gigs Rating             1010 non-null   float64\n",
            " 27  Value Deals Rating             786 non-null    float64\n",
            " 28  Live Sports Rating             205 non-null    float64\n",
            " 29  Ambience                       3468 non-null   float64\n",
            " 30  Lively                         3493 non-null   int64  \n",
            " 31  Service                        3493 non-null   int64  \n",
            " 32  Comfortablility                3493 non-null   int64  \n",
            " 33  Privacy                        3493 non-null   int64  \n",
            "dtypes: float64(9), int64(18), object(7)\n",
            "memory usage: 928.0+ KB\n"
          ]
        }
      ]
    },
    {
      "cell_type": "code",
      "source": [
        "# Separate the target variable\n",
        "X_train = train_data.drop('Annual Turnover', axis=1)  # Assuming 'Turnover' is the target variable\n",
        "y_train = train_data['Annual Turnover']\n",
        "X_test = test_data.copy()\n",
        "\n",
        "# Identify categorical and numerical columns\n",
        "categorical_cols = X_train.select_dtypes(include=['object', 'category']).columns\n",
        "numerical_cols = X_train.select_dtypes(include=['int64', 'float64']).columns\n",
        "\n",
        "# Preprocessing for numerical data: Imputation and scaling\n",
        "numerical_transformer = Pipeline(steps=[\n",
        "    ('imputer', SimpleImputer(strategy='mean')),  # Handle missing values\n",
        "    ('scaler', StandardScaler())                  # Feature scaling\n",
        "])\n",
        "\n",
        "# Preprocessing for categorical data: Imputation and one-hot encoding\n",
        "categorical_transformer = Pipeline(steps=[\n",
        "    ('imputer', SimpleImputer(strategy='most_frequent')),  # Handle missing values\n",
        "    ('onehot', OneHotEncoder(handle_unknown='ignore'))     # One-hot encoding\n",
        "])\n",
        "\n",
        "# Bundle preprocessing for numerical and categorical features\n",
        "preprocessor = ColumnTransformer(\n",
        "    transformers=[\n",
        "        ('num', numerical_transformer, numerical_cols),\n",
        "        ('cat', categorical_transformer, categorical_cols)\n",
        "    ])"
      ],
      "metadata": {
        "id": "v0eeMmjgtrKm"
      },
      "execution_count": 6,
      "outputs": []
    },
    {
      "cell_type": "code",
      "source": [
        "# Lasso Regression pipeline\n",
        "lasso_pipeline = Pipeline(steps=[('preprocessor', preprocessor),\n",
        "                                 ('lasso', Lasso())])\n",
        "\n",
        "# Hyperparameter tuning for Lasso\n",
        "lasso_param_grid = {\n",
        "    'lasso__alpha': [0.01, 0.1, 1, 10, 100]  # L1 penalty values\n",
        "}\n",
        "\n",
        "# Use cross-validation to find the best hyperparameters\n",
        "lasso_search = GridSearchCV(lasso_pipeline, lasso_param_grid, cv=5, scoring='neg_root_mean_squared_error')\n",
        "lasso_search.fit(X_train, y_train)\n",
        "\n",
        "# Best parameters and RMSE for Lasso\n",
        "best_lasso_params = lasso_search.best_params_\n",
        "lasso_rmse = -lasso_search.best_score_\n",
        "\n",
        "print(\"Best Lasso Parameters:\", best_lasso_params)\n",
        "print(\"Best Lasso RMSE:\", lasso_rmse)\n"
      ],
      "metadata": {
        "colab": {
          "base_uri": "https://localhost:8080/"
        },
        "id": "vE9SDtBqt6rq",
        "outputId": "186717a1-8832-4ef7-a6a3-83d311fd4995"
      },
      "execution_count": 9,
      "outputs": [
        {
          "output_type": "stream",
          "name": "stdout",
          "text": [
            "Best Lasso Parameters: {'lasso__alpha': 100}\n",
            "Best Lasso RMSE: 24285159.328400295\n"
          ]
        }
      ]
    },
    {
      "cell_type": "code",
      "source": [
        "# Random Forest pipeline\n",
        "rf_pipeline = Pipeline(steps=[('preprocessor', preprocessor),\n",
        "                              ('rf', RandomForestRegressor(random_state=42))])\n",
        "\n",
        "# Hyperparameter tuning for Random Forest\n",
        "rf_param_grid = {\n",
        "    'rf__n_estimators': [50,100, 200, 300],\n",
        "    'rf__max_depth': [5,10, 20, 30],\n",
        "    'rf__min_samples_split': [2, 5, 10,15],\n",
        "    'rf__min_samples_leaf': [1, 2, 4, 8]\n",
        "}\n",
        "\n",
        "# Use cross-validation to find the best hyperparameters\n",
        "rf_search = GridSearchCV(rf_pipeline, rf_param_grid, cv=5, scoring='neg_root_mean_squared_error')\n",
        "rf_search.fit(X_train, y_train)\n",
        "\n",
        "# Best parameters and RMSE for Random Forest\n",
        "best_rf_params = rf_search.best_params_\n",
        "rf_rmse = -rf_search.best_score_\n",
        "\n",
        "print(\"Best Random Forest Parameters:\", best_rf_params)\n",
        "print(\"Best Random Forest RMSE:\", rf_rmse)\n"
      ],
      "metadata": {
        "id": "xL0qPwpCwbPK"
      },
      "execution_count": null,
      "outputs": []
    }
  ]
}