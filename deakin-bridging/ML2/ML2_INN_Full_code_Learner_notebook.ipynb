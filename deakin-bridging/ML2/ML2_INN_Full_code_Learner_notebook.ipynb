{
  "cells": [
    {
      "cell_type": "markdown",
      "id": "Jm1-xjAGPAiY",
      "metadata": {
        "id": "Jm1-xjAGPAiY"
      },
      "source": [
        "<center><p float=\"center\">\n",
        "    <img src=\"https://mma.prnewswire.com/media/1458111/Great_Learning_Logo.jpg?p=facebook\" width=\"200\" height=\"100\"/>\n",
        "</p></center>\n",
        "\n",
        "<center><font size=10>Artificial Intelligence and Machine Learning</font></center>"
      ]
    },
    {
      "cell_type": "markdown",
      "id": "S1TV6s0qOhDa",
      "metadata": {
        "id": "S1TV6s0qOhDa"
      },
      "source": [
        "<center><img src=\"https://img.freepik.com/free-photo/luxury-bedroom-suite-resort-high-rise-hotel-with-working-table_105762-1783.jpg?w=740&t=st=1654505493~exp=1654506093~hmac=fc1167df2b3797e32400448b458fd80afb85e31403c7689e0b1506023ff754a7\" width=\"720\"></center>\n",
        "\n",
        "\n",
        "\n",
        "<center><font size=6>Hotel Booking Cancellation Prediction</font></center>"
      ]
    },
    {
      "cell_type": "markdown",
      "id": "wLlUaoVgS5y1",
      "metadata": {
        "id": "wLlUaoVgS5y1"
      },
      "source": [
        "## Problem Statement"
      ]
    },
    {
      "cell_type": "markdown",
      "id": "dense-medicaid",
      "metadata": {
        "id": "dense-medicaid"
      },
      "source": [
        "### Context\n",
        "\n",
        "Many hotel bookings are called off due to cancellations or no-shows. The typical reasons for cancellations include change of plans, scheduling conflicts, etc. This is often made easier by the option to do so free of charge or preferably at a low cost, which benefits hotel guests. Still, it is a less desirable and possibly revenue-diminishing factor for hotels to deal with. Such losses are particularly high on last-minute cancellations.\n",
        "\n",
        "The new technologies involving online booking channels have dramatically changed customers’ booking possibilities and behavior. This adds a further dimension to the challenge of how hotels handle cancellations, which are no longer limited to traditional booking and guest characteristics.\n",
        "\n",
        "\n",
        "The cancellation of bookings impacts a hotel on various fronts:\n",
        "1. Loss of resources (revenue) when the hotel cannot resell the room.\n",
        "2. Additional costs of distribution channels by increasing commissions or paying for publicity to help sell these rooms.\n",
        "3. Lowering prices last minute, so the hotel can resell a room, resulting in reducing the profit margin.\n",
        "4. Human resources to make arrangements for the guests.\n",
        "\n",
        "### Objective\n",
        "\n",
        "The increasing number of cancellations calls for a Machine Learning based solution that can help in predicting which booking is likely to be canceled. INN Hotels Group has a chain of hotels in Portugal, they are facing problems with the high number of booking cancellations and have reached out to your firm for data-driven solutions. You as a data scientist have to analyze the data provided to find which factors have a high influence on booking cancellations, build a predictive model that can predict which booking is going to be canceled in advance, and help in formulating profitable policies for cancellations and refunds.\n",
        "\n",
        "\n",
        "### Data Description\n",
        "\n",
        "The data contains the different attributes of customers' booking details. The detailed data dictionary is given below.\n",
        "\n",
        "\n",
        "**Data Dictionary**\n",
        "\n",
        "* Booking_ID: unique identifier of each booking\n",
        "* no_of_adults: Number of adults\n",
        "* no_of_children: Number of Children\n",
        "* no_of_weekend_nights: Number of weekend nights (Saturday or Sunday) the guest stayed or booked to stay at the hotel\n",
        "* no_of_week_nights: Number of week nights (Monday to Friday) the guest stayed or booked to stay at the hotel\n",
        "* type_of_meal_plan: Type of meal plan booked by the customer:\n",
        "    * Not Selected – No meal plan selected\n",
        "    * Meal Plan 1 – Breakfast\n",
        "    * Meal Plan 2 – Half board (breakfast and one other meal)\n",
        "    * Meal Plan 3 – Full board (breakfast, lunch, and dinner)\n",
        "* required_car_parking_space: Does the customer require a car parking space? (0 - No, 1- Yes)\n",
        "* room_type_reserved: Type of room reserved by the customer. The values are ciphered (encoded) by INN Hotels.\n",
        "* lead_time: Number of days between the date of booking and the arrival date\n",
        "* arrival_year: Year of arrival date\n",
        "* arrival_month: Month of arrival date\n",
        "* arrival_date: Date of the month\n",
        "* market_segment_type: Market segment designation.\n",
        "* repeated_guest: Is the customer a repeated guest? (0 - No, 1- Yes)\n",
        "* no_of_previous_cancellations: Number of previous bookings that were canceled by the customer prior to the current booking\n",
        "* no_of_previous_bookings_not_canceled: Number of previous bookings not canceled by the customer prior to the current booking\n",
        "* avg_price_per_room: Average price per day of the reservation; prices of the rooms are dynamic. (in euros)\n",
        "* no_of_special_requests: Total number of special requests made by the customer (e.g. high floor, view from the room, etc)\n",
        "* booking_status: Flag indicating if the booking was canceled or not."
      ]
    },
    {
      "cell_type": "markdown",
      "id": "tqfNqaJCQeEE",
      "metadata": {
        "id": "tqfNqaJCQeEE"
      },
      "source": [
        "## Importing the necessary libraries"
      ]
    },
    {
      "cell_type": "code",
      "execution_count": null,
      "id": "proper-calgary",
      "metadata": {
        "id": "proper-calgary"
      },
      "outputs": [],
      "source": []
    },
    {
      "cell_type": "markdown",
      "id": "fantastic-rebel",
      "metadata": {
        "id": "fantastic-rebel"
      },
      "source": [
        "## Loading the dataset"
      ]
    },
    {
      "cell_type": "code",
      "execution_count": null,
      "id": "Mf_tDSWheqiz",
      "metadata": {
        "id": "Mf_tDSWheqiz"
      },
      "outputs": [],
      "source": []
    },
    {
      "cell_type": "markdown",
      "id": "fD7H-dajQqyQ",
      "metadata": {
        "id": "fD7H-dajQqyQ"
      },
      "source": [
        "## Data Overview"
      ]
    },
    {
      "cell_type": "markdown",
      "source": [
        "* Observations\n",
        "* Sanity checks"
      ],
      "metadata": {
        "id": "24EISH7e3Eka"
      },
      "id": "24EISH7e3Eka"
    },
    {
      "cell_type": "code",
      "source": [],
      "metadata": {
        "id": "Lu8MHZmk3GhC"
      },
      "id": "Lu8MHZmk3GhC",
      "execution_count": null,
      "outputs": []
    },
    {
      "cell_type": "markdown",
      "id": "realistic-mortgage",
      "metadata": {
        "id": "realistic-mortgage"
      },
      "source": [
        "## <a name='link2'>Exploratory Data Analysis (EDA) Summary</a>\n"
      ]
    },
    {
      "cell_type": "markdown",
      "source": [
        "- EDA is an important part of any project involving data.\n",
        "- It is important to investigate and understand the data better before building a model with it.\n",
        "- A few questions have been mentioned below which will help you approach the analysis in the right manner and generate insights from the data.\n",
        "- A thorough analysis of the data, in addition to the questions mentioned below, should be done."
      ],
      "metadata": {
        "id": "1Ylg6CrY3Pqr"
      },
      "id": "1Ylg6CrY3Pqr"
    },
    {
      "cell_type": "markdown",
      "source": [
        "EDA Questions:\n",
        "* What are the busiest months in the hotel?\n",
        "* Which market segment do most of the guests come from?\n",
        "* Hotel rates are dynamic and change according to demand and customer demographics. What are the differences in room prices in different market segments?\n",
        "* What percentage of bookings are canceled?\n",
        "* Repeating guests are the guests who stay in the hotel often and are important to brand equity. What percentage of repeating guests cancel?\n",
        "* Many guests have special requirements when booking a hotel room. Do these requirements affect booking cancellation?\n",
        "\n",
        "Note: These are a few questions to help guide you in performing EDA. EDA has to be done beyond this set of questions to obtain the maximum point in the corresponding rubric section."
      ],
      "metadata": {
        "id": "BOICppHq3RDT"
      },
      "id": "BOICppHq3RDT"
    },
    {
      "cell_type": "code",
      "source": [],
      "metadata": {
        "id": "C7uZ5RC13elx"
      },
      "id": "C7uZ5RC13elx",
      "execution_count": null,
      "outputs": []
    },
    {
      "cell_type": "markdown",
      "id": "kMTFLnduSY23",
      "metadata": {
        "id": "kMTFLnduSY23"
      },
      "source": [
        "## Data Preprocessing"
      ]
    },
    {
      "cell_type": "markdown",
      "source": [
        "* Missing value treatment\n",
        "* Feature engineering (if needed)\n",
        "* Outlier detection and treatment (if needed)\n",
        "* Preparing data for modeling\n",
        "* Any other preprocessing steps (if needed)"
      ],
      "metadata": {
        "id": "jGeyBh-Q3kVC"
      },
      "id": "jGeyBh-Q3kVC"
    },
    {
      "cell_type": "code",
      "source": [],
      "metadata": {
        "id": "bKZ0AbiY3lMK"
      },
      "id": "bKZ0AbiY3lMK",
      "execution_count": null,
      "outputs": []
    },
    {
      "cell_type": "markdown",
      "id": "Gh05O_jnS7CO",
      "metadata": {
        "id": "Gh05O_jnS7CO"
      },
      "source": [
        "## Model Building"
      ]
    },
    {
      "cell_type": "markdown",
      "id": "6Zc_1ZkZNk7l",
      "metadata": {
        "id": "6Zc_1ZkZNk7l"
      },
      "source": [
        "### Model Evaluation Criterion"
      ]
    },
    {
      "cell_type": "markdown",
      "source": [],
      "metadata": {
        "id": "2Z57N_yM3soH"
      },
      "id": "2Z57N_yM3soH"
    },
    {
      "cell_type": "markdown",
      "id": "u6c4SAJ2JgC1",
      "metadata": {
        "id": "u6c4SAJ2JgC1"
      },
      "source": [
        "### K-Nearest Neighbor"
      ]
    },
    {
      "cell_type": "code",
      "source": [],
      "metadata": {
        "id": "5PJL0kMs32-0"
      },
      "id": "5PJL0kMs32-0",
      "execution_count": null,
      "outputs": []
    },
    {
      "cell_type": "markdown",
      "id": "Fb8QwpEISdP8",
      "metadata": {
        "id": "Fb8QwpEISdP8"
      },
      "source": [
        "###Naive Bayes"
      ]
    },
    {
      "cell_type": "code",
      "source": [],
      "metadata": {
        "id": "MpztPmww35In"
      },
      "id": "MpztPmww35In",
      "execution_count": null,
      "outputs": []
    },
    {
      "cell_type": "markdown",
      "id": "51T7JgSSUBLm",
      "metadata": {
        "id": "51T7JgSSUBLm"
      },
      "source": [
        "### Support Vector Machine"
      ]
    },
    {
      "cell_type": "code",
      "source": [],
      "metadata": {
        "id": "EBhaF_Ek3746"
      },
      "id": "EBhaF_Ek3746",
      "execution_count": null,
      "outputs": []
    },
    {
      "cell_type": "markdown",
      "id": "monthly-segment",
      "metadata": {
        "id": "monthly-segment"
      },
      "source": [
        "## Model Performance Improvement"
      ]
    },
    {
      "cell_type": "markdown",
      "source": [
        "Tune the models built in the Model Building section"
      ],
      "metadata": {
        "id": "KZiA-zQZd7kX"
      },
      "id": "KZiA-zQZd7kX"
    },
    {
      "cell_type": "code",
      "source": [],
      "metadata": {
        "id": "s9bxGIF_4C4d"
      },
      "id": "s9bxGIF_4C4d",
      "execution_count": null,
      "outputs": []
    },
    {
      "cell_type": "markdown",
      "id": "YIzaj5SZA7uy",
      "metadata": {
        "id": "YIzaj5SZA7uy"
      },
      "source": [
        "## Model Performance Comparison and Final Model Selection"
      ]
    },
    {
      "cell_type": "code",
      "source": [],
      "metadata": {
        "id": "6Kj1kyrj4Kfz"
      },
      "id": "6Kj1kyrj4Kfz",
      "execution_count": null,
      "outputs": []
    },
    {
      "cell_type": "markdown",
      "id": "f_5Q1zMbZuut",
      "metadata": {
        "id": "f_5Q1zMbZuut"
      },
      "source": [
        "## Actionable Insights and Recommendations"
      ]
    },
    {
      "cell_type": "markdown",
      "source": [
        "### Insights"
      ],
      "metadata": {
        "id": "SJHbcLym5tY5"
      },
      "id": "SJHbcLym5tY5"
    },
    {
      "cell_type": "markdown",
      "id": "otherwise-increase",
      "metadata": {
        "id": "otherwise-increase"
      },
      "source": []
    },
    {
      "cell_type": "markdown",
      "source": [
        "### Business Recommendations"
      ],
      "metadata": {
        "id": "ouQr3Kbc5sE5"
      },
      "id": "ouQr3Kbc5sE5"
    },
    {
      "cell_type": "markdown",
      "id": "marked-coaching",
      "metadata": {
        "id": "marked-coaching"
      },
      "source": []
    }
  ],
  "metadata": {
    "colab": {
      "collapsed_sections": [
        "f_5Q1zMbZuut"
      ],
      "provenance": [],
      "gpuType": "T4"
    },
    "kernelspec": {
      "display_name": "Python 3",
      "name": "python3"
    },
    "language_info": {
      "codemirror_mode": {
        "name": "ipython",
        "version": 3
      },
      "file_extension": ".py",
      "mimetype": "text/x-python",
      "name": "python",
      "nbconvert_exporter": "python",
      "pygments_lexer": "ipython3",
      "version": "3.11.4"
    },
    "accelerator": "GPU"
  },
  "nbformat": 4,
  "nbformat_minor": 5
}