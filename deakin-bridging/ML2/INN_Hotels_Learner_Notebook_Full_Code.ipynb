{
  "nbformat": 4,
  "nbformat_minor": 0,
  "metadata": {
    "colab": {
      "provenance": [],
      "authorship_tag": "ABX9TyPTE6esj40ktaKD68qUWe6J",
      "include_colab_link": true
    },
    "kernelspec": {
      "name": "python3",
      "display_name": "Python 3"
    },
    "language_info": {
      "name": "python"
    }
  },
  "cells": [
    {
      "cell_type": "markdown",
      "metadata": {
        "id": "view-in-github",
        "colab_type": "text"
      },
      "source": [
        "<a href=\"https://colab.research.google.com/github/akatjizeu/Data-Science/blob/main/deakin-bridging/ML2/INN_Hotels_Learner_Notebook_Full_Code.ipynb\" target=\"_parent\"><img src=\"https://colab.research.google.com/assets/colab-badge.svg\" alt=\"Open In Colab\"/></a>"
      ]
    },
    {
      "cell_type": "markdown",
      "source": [
        "# Project Supervised Learning: INN Hotels"
      ],
      "metadata": {
        "id": "0onHqCr4C_DL"
      }
    },
    {
      "cell_type": "markdown",
      "source": [
        "## Define Problem Statement and Objectives"
      ],
      "metadata": {
        "id": "sx8H43BZDa9K"
      }
    },
    {
      "cell_type": "markdown",
      "source": [
        "**Context**\n",
        "\n",
        "A significant number of hotel bookings are called off due to cancellations or no-shows. The typical reasons for cancellations include change of plans, scheduling conflicts, etc. This is often made easier by the option to do so free of charge or preferably at a low cost which is beneficial to hotel guests but it is a less desirable and possibly revenue-diminishing factor for hotels to deal with. Such losses are particularly high on last-minute cancellations.\n",
        "\n",
        "The new technologies involving online booking channels have dramatically changed customers’ booking possibilities and behavior. This adds a further dimension to the challenge of how hotels handle cancellations, which are no longer limited to traditional booking and guest characteristics.\n",
        "\n",
        "The cancellation of bookings impacts a hotel on various fronts:\n",
        "\n",
        "1. Loss of resources (revenue) when the hotel cannot resell the room.\n",
        "2. Additional costs of distribution channels by increasing commissions or paying for publicity to help sell these rooms.\n",
        "3. Lowering prices last minute, so the hotel can resell a room, resulting in reducing the profit margin.\n",
        "4. Human resources to make arrangements for the guests.\n",
        "\n",
        "**Objectives**\n",
        "\n",
        "The increasing number of cancellations calls for a Machine Learning based solution that can help in predicting which booking is likely to be canceled. INN Hotels Group has a chain of hotels in Portugal, they are facing problems with the high number of booking cancellations and have reached out to your firm for data-driven solutions. You as a data scientist have to analyze the data provided to find which factors have a high influence on booking cancellations, build a predictive model that can predict which booking is going to be canceled in advance, and help in formulating profitable policies for cancellations and refunds."
      ],
      "metadata": {
        "id": "uzbVXOk-Dkfw"
      }
    },
    {
      "cell_type": "markdown",
      "source": [
        "## Import all the necessary libraries"
      ],
      "metadata": {
        "id": "ArAnc2ruDy5h"
      }
    },
    {
      "cell_type": "code",
      "execution_count": 1,
      "metadata": {
        "id": "ByaE1OKfCfT1"
      },
      "outputs": [],
      "source": [
        "# Installing the libraries with the specified version.\n",
        "#!pip install pandas==1.5.3 matplotlib==3.7.1 seaborn==0.13.1 scipy==1.11.4 numpy==1.25.2 -q --user"
      ]
    },
    {
      "cell_type": "markdown",
      "source": [
        "**Note**: *After running the above cell, kindly restart the notebook kernel and run all cells sequentially from the start again.*"
      ],
      "metadata": {
        "id": "hmRrM35oEDQz"
      }
    },
    {
      "cell_type": "code",
      "source": [
        "#importing the needed libraries\n",
        "import pandas as pd\n",
        "import numpy as np\n",
        "import matplotlib.pyplot as plt\n",
        "import seaborn as sns\n",
        "\n",
        "#Import libraries for metrics\n",
        "from sklearn.metrics import mean_squared_error, mean_absolute_error, r2_score\n",
        "from sklearn.metrics import accuracy_score, precision_score, recall_score, f1_score\n",
        "from sklearn.metrics import confusion_matrix, classification_report, roc_curve, roc_auc_score\n",
        "\n",
        "# Import librarires for KNN\n",
        "from sklearn.neighbors import KNeighborsClassifier\n",
        "from sklearn.model_selection import GridSearchCV\n",
        "from sklearn.model_selection import train_test_split\n",
        "from sklearn.preprocessing import StandardScaler\n",
        "\n",
        "#import libraries for Naive bayes\n",
        "from sklearn.naive_bayes import GaussianNB\n",
        "from sklearn.naive_bayes import MultinomialNB\n",
        "from sklearn.naive_bayes import BernoulliNB\n",
        "\n",
        "#import libraries for SVM\n",
        "from sklearn.svm import SVC\n",
        "from sklearn.svm import LinearSVC"
      ],
      "metadata": {
        "id": "sQtH-o6GEC4E"
      },
      "execution_count": 2,
      "outputs": []
    },
    {
      "cell_type": "code",
      "source": [],
      "metadata": {
        "id": "Bc807daHD4t0"
      },
      "execution_count": null,
      "outputs": []
    }
  ]
}